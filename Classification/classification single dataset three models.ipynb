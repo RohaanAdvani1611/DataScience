{
  "cells": [
    {
      "cell_type": "markdown",
      "metadata": {
        "id": "O089xTmc4zNg"
      },
      "source": [
        "# DS Assignment 3: Performance Evaluation:"
      ]
    },
    {
      "cell_type": "markdown",
      "source": [
        "Kaggle Dataset Link - https://www.kaggle.com/code/andls555/heart-disease-prediction/data"
      ],
      "metadata": {
        "id": "roOjMUX1guvt"
      }
    },
    {
      "cell_type": "markdown",
      "source": [
        "**1. Import Libraries and Dataset:**"
      ],
      "metadata": {
        "id": "n2zV_cQRhFeC"
      }
    },
    {
      "cell_type": "code",
      "execution_count": null,
      "metadata": {
        "id": "GJqblehJ4zNj"
      },
      "outputs": [],
      "source": [
        "import numpy as np\n",
        "import pandas as pd\n",
        "import matplotlib.pyplot as plt\n",
        "%matplotlib inline\n",
        "import seaborn as sns\n",
        "\n",
        "from sklearn.model_selection import train_test_split\n",
        "from sklearn.neighbors import KNeighborsClassifier\n",
        "from sklearn.linear_model import LogisticRegression\n",
        "from sklearn.compose import make_column_transformer\n",
        "from sklearn.preprocessing import OneHotEncoder\n",
        "from sklearn import metrics"
      ]
    },
    {
      "cell_type": "code",
      "execution_count": null,
      "metadata": {
        "id": "-CKBqhb44zNk"
      },
      "outputs": [],
      "source": [
        "df = pd.read_csv('heart_2020_cleaned.csv')"
      ]
    },
    {
      "cell_type": "markdown",
      "source": [
        "**2. Preprocess the Data:**"
      ],
      "metadata": {
        "id": "4ZSxsh-8hPz_"
      }
    },
    {
      "cell_type": "code",
      "execution_count": null,
      "metadata": {
        "id": "gOZpXF594zNl"
      },
      "outputs": [],
      "source": [
        "df =  df[df.columns].replace({'Yes':1, 'No':0, 'Male':1,'Female':0,'No, borderline diabetes':'0','Yes (during pregnancy)':'1' })\n",
        "df['Diabetic'] = df['Diabetic'].astype(int)"
      ]
    },
    {
      "cell_type": "code",
      "execution_count": null,
      "metadata": {
        "id": "DVUhttaG4zNl"
      },
      "outputs": [],
      "source": [
        "from sklearn.preprocessing import StandardScaler \n",
        "num_cols = ['MentalHealth', 'BMI', 'PhysicalHealth', 'SleepTime']\n",
        "Scaler = StandardScaler()\n",
        "df[num_cols] = Scaler.fit_transform(df[num_cols])"
      ]
    },
    {
      "cell_type": "code",
      "execution_count": null,
      "metadata": {
        "id": "WiQAyELW4zNl"
      },
      "outputs": [],
      "source": [
        "from sklearn.preprocessing import OneHotEncoder \n",
        "enc = OneHotEncoder() \n",
        "# Encoding categorical features \n",
        "categ = df[['AgeCategory', 'Race', 'GenHealth']]\n",
        "encoded_categ = pd.DataFrame(enc.fit_transform(categ).toarray())\n",
        "#Likning the encoed_cateh with the df\n",
        "df = pd.concat([df, encoded_categ], axis = 1)\n",
        "# Dropping the categorical features\n",
        "df = df.drop(columns = ['AgeCategory', 'Race', 'GenHealth'], axis = 1)"
      ]
    },
    {
      "cell_type": "markdown",
      "source": [
        "**3. Set train and test data:**"
      ],
      "metadata": {
        "id": "xrVqnz3ZhXsF"
      }
    },
    {
      "cell_type": "code",
      "execution_count": null,
      "metadata": {
        "id": "Z9V2PYJq4zNm"
      },
      "outputs": [],
      "source": [
        "#Select Features\n",
        "features = df.drop(columns =['HeartDisease'], axis = 1)\n",
        "#Select Target \n",
        "target = df['HeartDisease']\n",
        "# Set Training and Testing Data\n",
        "from sklearn.model_selection import train_test_split\n",
        "X_train, X_test, y_train, y_test = train_test_split(features, target, shuffle = True, test_size = .2, random_state = 44)"
      ]
    },
    {
      "cell_type": "markdown",
      "source": [
        "**4. Write function to evaluate model:**"
      ],
      "metadata": {
        "id": "X98D95ovhfRc"
      }
    },
    {
      "cell_type": "code",
      "execution_count": null,
      "metadata": {
        "id": "PxU7NlKu4zNm"
      },
      "outputs": [],
      "source": [
        "def evaluate_model(model, x_test, y_test):\n",
        "    from sklearn import metrics\n",
        "    # Predict Test Data \n",
        "    y_pred = model.predict(x_test)\n",
        "    # Calculate accuracy, precision, recall, f1-score, and kappa score\n",
        "    acc = metrics.accuracy_score(y_test, y_pred)\n",
        "    prec = metrics.precision_score(y_test, y_pred)\n",
        "    rec = metrics.recall_score(y_test, y_pred)\n",
        "    sen = metrics.recall_score(y_test, y_pred, pos_label=1)\n",
        "    spe = metrics.recall_score(y_test, y_pred, pos_label=0)\n",
        "    f1 = metrics.f1_score(y_test, y_pred)\n",
        "    kappa = metrics.cohen_kappa_score(y_test, y_pred)\n",
        "    # Calculate area under curve (AUC)\n",
        "    y_pred_proba = model.predict_proba(x_test)[::,1]\n",
        "    fpr, tpr, _ = metrics.roc_curve(y_test, y_pred_proba)\n",
        "    auc = metrics.roc_auc_score(y_test, y_pred_proba)\n",
        "    # Display confussion matrix\n",
        "    cm = metrics.confusion_matrix(y_test, y_pred)\n",
        "\n",
        "    return {'acc': acc, 'prec': prec, 'rec': rec, 'sen':sen, 'spe':spe, 'f1': f1, 'kappa': kappa, \n",
        "            'fpr': fpr, 'tpr': tpr, 'auc': auc, 'cm': cm}"
      ]
    },
    {
      "cell_type": "markdown",
      "source": [
        "**5. KNN Model:**"
      ],
      "metadata": {
        "id": "zHLXN1yohl4l"
      }
    },
    {
      "cell_type": "code",
      "execution_count": null,
      "metadata": {
        "id": "XX0fEkSx4zNn",
        "colab": {
          "base_uri": "https://localhost:8080/"
        },
        "outputId": "604dd561-18b4-4f06-da6b-1c99f2ddc12a"
      },
      "outputs": [
        {
          "output_type": "stream",
          "name": "stderr",
          "text": [
            "/usr/local/lib/python3.7/dist-packages/sklearn/utils/validation.py:1692: FutureWarning: Feature names only support names that are all strings. Got feature names with dtypes: ['int', 'str']. An error will be raised in 1.2.\n",
            "  FutureWarning,\n",
            "/usr/local/lib/python3.7/dist-packages/sklearn/utils/validation.py:1692: FutureWarning: Feature names only support names that are all strings. Got feature names with dtypes: ['int', 'str']. An error will be raised in 1.2.\n",
            "  FutureWarning,\n",
            "/usr/local/lib/python3.7/dist-packages/sklearn/utils/validation.py:1692: FutureWarning: Feature names only support names that are all strings. Got feature names with dtypes: ['int', 'str']. An error will be raised in 1.2.\n",
            "  FutureWarning,\n"
          ]
        },
        {
          "output_type": "stream",
          "name": "stdout",
          "text": [
            "Accuracy: 0.9071123688613018\n",
            "Precision: 0.35751295336787564\n",
            "Recall: 0.11402864487697392\n",
            "Sensitivity: 0.11402864487697392\n",
            "Specificity: 0.9809273152974552\n",
            "F1 Score: 0.17290825560350828\n",
            "Cohens Kappa Score: 0.1373846447049204\n",
            "Area Under Curve: 0.6994709858506478\n",
            "Confusion Matrix:\n",
            " [[57397  1116]\n",
            " [ 4825   621]]\n"
          ]
        }
      ],
      "source": [
        "# Building a model using KNeighborsClassifier \n",
        "from sklearn.neighbors import KNeighborsClassifier\n",
        "knn = KNeighborsClassifier(n_neighbors = 5)\n",
        "\n",
        "knn.fit(X_train, y_train)\n",
        "\n",
        "# Evaluate Model\n",
        "knn_eval = evaluate_model(knn, X_test, y_test)\n",
        "\n",
        "# Print result\n",
        "print('Accuracy:', knn_eval['acc'])\n",
        "print('Precision:', knn_eval['prec'])\n",
        "print('Recall:', knn_eval['rec'])\n",
        "print('Sensitivity:', knn_eval['sen'])\n",
        "print('Specificity:', knn_eval['spe'])\n",
        "print('F1 Score:', knn_eval['f1'])\n",
        "print('Cohens Kappa Score:', knn_eval['kappa'])\n",
        "print('Area Under Curve:', knn_eval['auc'])\n",
        "print('Confusion Matrix:\\n', knn_eval['cm'])"
      ]
    },
    {
      "cell_type": "markdown",
      "source": [
        "**6. Decision Tree Model:**"
      ],
      "metadata": {
        "id": "Mkvxobu7hp07"
      }
    },
    {
      "cell_type": "code",
      "source": [
        "from sklearn import tree\n",
        "\n",
        "# Building Decision Tree model \n",
        "clf = tree.DecisionTreeClassifier(random_state=0)\n",
        "clf.fit(X_train, y_train)\n",
        "\n",
        "# Evaluate Model\n",
        "clf_eval = evaluate_model(clf, X_test, y_test)\n",
        "\n",
        "# Print result\n",
        "print('Accuracy:', clf_eval['acc'])\n",
        "print('Precision:', clf_eval['prec'])\n",
        "print('Recall:', clf_eval['rec'])\n",
        "print('Sensitivity:', clf_eval['sen'])\n",
        "print('Specificity:', clf_eval['spe'])\n",
        "print('F1 Score:', clf_eval['f1'])\n",
        "print('Cohens Kappa Score:', clf_eval['kappa'])\n",
        "print('Area Under Curve:', clf_eval['auc'])\n",
        "print('Confusion Matrix:\\n', clf_eval['cm'])"
      ],
      "metadata": {
        "colab": {
          "base_uri": "https://localhost:8080/"
        },
        "id": "NQdDCORZUGp8",
        "outputId": "843c0506-9512-426e-eb90-1df574ed496a"
      },
      "execution_count": null,
      "outputs": [
        {
          "output_type": "stream",
          "name": "stderr",
          "text": [
            "/usr/local/lib/python3.7/dist-packages/sklearn/utils/validation.py:1692: FutureWarning: Feature names only support names that are all strings. Got feature names with dtypes: ['int', 'str']. An error will be raised in 1.2.\n",
            "  FutureWarning,\n",
            "/usr/local/lib/python3.7/dist-packages/sklearn/utils/validation.py:1692: FutureWarning: Feature names only support names that are all strings. Got feature names with dtypes: ['int', 'str']. An error will be raised in 1.2.\n",
            "  FutureWarning,\n"
          ]
        },
        {
          "output_type": "stream",
          "name": "stdout",
          "text": [
            "Accuracy: 0.86560140089745\n",
            "Precision: 0.2347591781744695\n",
            "Recall: 0.2559676827029012\n",
            "Sensitivity: 0.2559676827029012\n",
            "Specificity: 0.92234204364842\n",
            "F1 Score: 0.2449051300070274\n",
            "Cohens Kappa Score: 0.17129246113576335\n",
            "Area Under Curve: 0.5895004835188936\n",
            "Confusion Matrix:\n",
            " [[53969  4544]\n",
            " [ 4052  1394]]\n"
          ]
        },
        {
          "output_type": "stream",
          "name": "stderr",
          "text": [
            "/usr/local/lib/python3.7/dist-packages/sklearn/utils/validation.py:1692: FutureWarning: Feature names only support names that are all strings. Got feature names with dtypes: ['int', 'str']. An error will be raised in 1.2.\n",
            "  FutureWarning,\n"
          ]
        }
      ]
    },
    {
      "cell_type": "markdown",
      "source": [
        "**7. Logistic Regression Model:**"
      ],
      "metadata": {
        "id": "i2H8uMG6hwm0"
      }
    },
    {
      "cell_type": "code",
      "source": [
        "log = LogisticRegression()\n",
        "log.fit(X_train,y_train)\n",
        "log_eval = evaluate_model(log, X_test, y_test)\n",
        "\n",
        "print('Accuracy:', log_eval['acc'])\n",
        "print('Precision:', log_eval['prec'])\n",
        "print('Recall:', log_eval['rec'])\n",
        "print('Sensitivity:', log_eval['sen'])\n",
        "print('Specificity:', log_eval['spe'])\n",
        "print('F1 Score:', log_eval['f1'])\n",
        "print('Cohens Kappa Score:', log_eval['kappa'])\n",
        "print('Area Under Curve:', log_eval['auc'])\n",
        "print('Confusion Matrix:\\n', log_eval['cm'])"
      ],
      "metadata": {
        "colab": {
          "base_uri": "https://localhost:8080/"
        },
        "id": "G9H5K292Ve9k",
        "outputId": "abf690f5-7d5f-41ce-d3b8-950c55a045b7"
      },
      "execution_count": null,
      "outputs": [
        {
          "output_type": "stream",
          "name": "stderr",
          "text": [
            "/usr/local/lib/python3.7/dist-packages/sklearn/utils/validation.py:1692: FutureWarning: Feature names only support names that are all strings. Got feature names with dtypes: ['int', 'str']. An error will be raised in 1.2.\n",
            "  FutureWarning,\n",
            "/usr/local/lib/python3.7/dist-packages/sklearn/linear_model/_logistic.py:818: ConvergenceWarning: lbfgs failed to converge (status=1):\n",
            "STOP: TOTAL NO. of ITERATIONS REACHED LIMIT.\n",
            "\n",
            "Increase the number of iterations (max_iter) or scale the data as shown in:\n",
            "    https://scikit-learn.org/stable/modules/preprocessing.html\n",
            "Please also refer to the documentation for alternative solver options:\n",
            "    https://scikit-learn.org/stable/modules/linear_model.html#logistic-regression\n",
            "  extra_warning_msg=_LOGISTIC_SOLVER_CONVERGENCE_MSG,\n",
            "/usr/local/lib/python3.7/dist-packages/sklearn/utils/validation.py:1692: FutureWarning: Feature names only support names that are all strings. Got feature names with dtypes: ['int', 'str']. An error will be raised in 1.2.\n",
            "  FutureWarning,\n"
          ]
        },
        {
          "output_type": "stream",
          "name": "stdout",
          "text": [
            "Accuracy: 0.9161337731984552\n",
            "Precision: 0.5376838235294118\n",
            "Recall: 0.10741828865222182\n",
            "Sensitivity: 0.10741828865222182\n",
            "Specificity: 0.9914036197084408\n",
            "F1 Score: 0.17906336088154273\n",
            "Cohens Kappa Score: 0.1551049221808699\n",
            "Area Under Curve: 0.8400979209939687\n",
            "Confusion Matrix:\n",
            " [[58010   503]\n",
            " [ 4861   585]]\n"
          ]
        },
        {
          "output_type": "stream",
          "name": "stderr",
          "text": [
            "/usr/local/lib/python3.7/dist-packages/sklearn/utils/validation.py:1692: FutureWarning: Feature names only support names that are all strings. Got feature names with dtypes: ['int', 'str']. An error will be raised in 1.2.\n",
            "  FutureWarning,\n"
          ]
        }
      ]
    },
    {
      "cell_type": "markdown",
      "source": [
        "**8. Model Comparison:**"
      ],
      "metadata": {
        "id": "v5VeGZmOh4YA"
      }
    },
    {
      "cell_type": "code",
      "source": [
        "# Intitialize figure with two plots\n",
        "fig, (ax1, ax2) = plt.subplots(1, 2)\n",
        "fig.suptitle('Model Comparison', fontsize=16, fontweight='bold')\n",
        "fig.set_figheight(7)\n",
        "fig.set_figwidth(14)\n",
        "fig.set_facecolor('white')\n",
        "\n",
        "# First plot\n",
        "## set bar size\n",
        "barWidth = 0.2\n",
        "clf_score = [clf_eval['acc'], clf_eval['prec'], clf_eval['rec'], clf_eval['f1'], clf_eval['kappa']]\n",
        "knn_score = [knn_eval['acc'], knn_eval['prec'], knn_eval['rec'], knn_eval['f1'], knn_eval['kappa']]\n",
        "log_score = [log_eval['acc'], log_eval['prec'], log_eval['rec'], log_eval['f1'], log_eval['kappa']]\n",
        "\n",
        "## Set position of bar on X axis\n",
        "r1 = np.arange(len(clf_score))\n",
        "r2 = [x + barWidth for x in r1]\n",
        "r3 = [x + barWidth + barWidth for x in r1]\n",
        "\n",
        "## Make the plot\n",
        "ax1.bar(r1, clf_score, width=barWidth, edgecolor='white', label='Decision Tree')\n",
        "ax1.bar(r2, knn_score, width=barWidth, edgecolor='white', label='K-Nearest Neighbors')\n",
        "ax1.bar(r2, log_score, width=barWidth, edgecolor='white', label='Logistic Regression')\n",
        "\n",
        "## Configure x and y axis\n",
        "ax1.set_xlabel('Metrics', fontweight='bold')\n",
        "labels = ['Accuracy', 'Precision', 'Recall', 'F1', 'Kappa']\n",
        "ax1.set_xticks([r + (barWidth * 1.5) for r in range(len(clf_score))], )\n",
        "ax1.set_xticklabels(labels)\n",
        "ax1.set_ylabel('Score', fontweight='bold')\n",
        "ax1.set_ylim(0, 1)\n",
        "\n",
        "## Create legend & title\n",
        "ax1.set_title('Evaluation Metrics', fontsize=14, fontweight='bold')\n",
        "ax1.legend()\n",
        "\n",
        "# Second plot\n",
        "## Comparing ROC Curve\n",
        "ax2.plot(clf_eval['fpr'], clf_eval['tpr'], label='Decision Tree, auc = {:0.5f}'.format(clf_eval['auc']))\n",
        "ax2.plot(knn_eval['fpr'], knn_eval['tpr'], label='K-Nearest Nieghbor, auc = {:0.5f}'.format(knn_eval['auc']))\n",
        "ax2.plot(log_eval['fpr'], log_eval['tpr'], label='Logistic Regression, auc = {:0.5f}'.format(log_eval['auc']))\n",
        "\n",
        "## Configure x and y axis\n",
        "ax2.set_xlabel('False Positive Rate', fontweight='bold')\n",
        "ax2.set_ylabel('True Positive Rate', fontweight='bold')\n",
        "\n",
        "## Create legend & title\n",
        "ax2.set_title('ROC Curve', fontsize=14, fontweight='bold')\n",
        "ax2.legend(loc=4)\n",
        "\n",
        "plt.show()"
      ],
      "metadata": {
        "colab": {
          "base_uri": "https://localhost:8080/",
          "height": 493
        },
        "id": "LT07Q9e4h88r",
        "outputId": "aad1c725-559a-4bb9-ef1a-c06bcf2ed4e7"
      },
      "execution_count": null,
      "outputs": [
        {
          "output_type": "display_data",
          "data": {
            "text/plain": [
              "<Figure size 1008x504 with 2 Axes>"
            ],
            "image/png": "[encoded data removed]"
          },
          "metadata": {}
        }
      ]
    }
  ],
  "metadata": {
    "colab": {
      "name": "Ass3_Pt1.ipynb",
      "provenance": [],
      "collapsed_sections": []
    },
    "kernelspec": {
      "display_name": "Python 3",
      "language": "python",
      "name": "python3"
    },
    "language_info": {
      "codemirror_mode": {
        "name": "ipython",
        "version": 3
      },
      "file_extension": ".py",
      "mimetype": "text/x-python",
      "name": "python",
      "nbconvert_exporter": "python",
      "pygments_lexer": "ipython3",
      "version": "3.7.6"
    }
  },
  "nbformat": 4,
  "nbformat_minor": 0
}